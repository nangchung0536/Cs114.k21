{
  "nbformat": 4,
  "nbformat_minor": 0,
  "metadata": {
    "colab": {
      "name": "round 3.ipynb",
      "provenance": [],
      "authorship_tag": "ABX9TyOq6WU9B/yjlvmK6M/z3c89",
      "include_colab_link": true
    },
    "kernelspec": {
      "name": "python3",
      "display_name": "Python 3"
    }
  },
  "cells": [
    {
      "cell_type": "markdown",
      "metadata": {
        "id": "view-in-github",
        "colab_type": "text"
      },
      "source": [
        "<a href=\"https://colab.research.google.com/github/nangchung0536/Cs114.k21/blob/master/round_3.ipynb\" target=\"_parent\"><img src=\"https://colab.research.google.com/assets/colab-badge.svg\" alt=\"Open In Colab\"/></a>"
      ]
    },
    {
      "cell_type": "code",
      "metadata": {
        "id": "XxJCOq760Br6",
        "colab_type": "code",
        "colab": {}
      },
      "source": [
        ""
      ],
      "execution_count": 0,
      "outputs": []
    },
    {
      "cell_type": "markdown",
      "metadata": {
        "id": "m65LdD5c0E41",
        "colab_type": "text"
      },
      "source": [
        "Chuyển file txt thành csv\n"
      ]
    },
    {
      "cell_type": "code",
      "metadata": {
        "id": "BODb0CJe0F6W",
        "colab_type": "code",
        "colab": {
          "base_uri": "https://localhost:8080/",
          "height": 252
        },
        "outputId": "c63ea2ce-49fd-46f1-f4f9-393350a07ad0"
      },
      "source": [
        "import pandas as pd\n",
        "dataframe=pd.read_csv('http://cs.uit.edu.vn/data3.txt')\n",
        "print(dataframe)"
      ],
      "execution_count": 1,
      "outputs": [
        {
          "output_type": "stream",
          "text": [
            "       37837612  4.12166\n",
            "0      37395246  3.92089\n",
            "1      36610827  3.21540\n",
            "2      29555651  2.54506\n",
            "3      25928216  2.21831\n",
            "4      30423112  2.61376\n",
            "...         ...      ...\n",
            "10584  26872494  2.35117\n",
            "10585  20753811  1.79155\n",
            "10586  33520323  2.90918\n",
            "10587  21243264  1.80292\n",
            "10588  21380484  1.82795\n",
            "\n",
            "[10589 rows x 2 columns]\n"
          ],
          "name": "stdout"
        }
      ]
    },
    {
      "cell_type": "markdown",
      "metadata": {
        "id": "Iy_VD7jD0TbB",
        "colab_type": "text"
      },
      "source": [
        "**Dữ liệu của X**"
      ]
    },
    {
      "cell_type": "code",
      "metadata": {
        "id": "scVGMvEM0W3D",
        "colab_type": "code",
        "colab": {
          "base_uri": "https://localhost:8080/",
          "height": 34
        },
        "outputId": "4ea6ec19-df23-4df7-8ee9-900b8caef106"
      },
      "source": [
        "\n",
        "x=dataframe.values[:,0]\n",
        "print(x)"
      ],
      "execution_count": 2,
      "outputs": [
        {
          "output_type": "stream",
          "text": [
            "[37395246. 36610827. 29555651. ... 33520323. 21243264. 21380484.]\n"
          ],
          "name": "stdout"
        }
      ]
    },
    {
      "cell_type": "markdown",
      "metadata": {
        "id": "uwi0Fljg0cZx",
        "colab_type": "text"
      },
      "source": [
        "**Dữ liệu của Y**"
      ]
    },
    {
      "cell_type": "code",
      "metadata": {
        "id": "6ZwwOTpX0eRU",
        "colab_type": "code",
        "colab": {
          "base_uri": "https://localhost:8080/",
          "height": 34
        },
        "outputId": "ff61caad-7107-4e02-eaf5-1f7e54f60b16"
      },
      "source": [
        "y=dataframe.values[:,1]\n",
        "print(y)"
      ],
      "execution_count": 3,
      "outputs": [
        {
          "output_type": "stream",
          "text": [
            "[3.92089 3.2154  2.54506 ... 2.90918 1.80292 1.82795]\n"
          ],
          "name": "stdout"
        }
      ]
    },
    {
      "cell_type": "markdown",
      "metadata": {
        "id": "QMuMKwjf0pcG",
        "colab_type": "text"
      },
      "source": [
        "**Import thư viện matplotlib vẽ đồ thị**"
      ]
    },
    {
      "cell_type": "code",
      "metadata": {
        "id": "vIvHmRlo0raa",
        "colab_type": "code",
        "colab": {
          "base_uri": "https://localhost:8080/",
          "height": 278
        },
        "outputId": "e20908d3-2805-4d0c-f66c-3f4713dc69f6"
      },
      "source": [
        "import matplotlib.pyplot as plt\n",
        "plt.plot(x,y,marker='o')\n",
        "plt.show()"
      ],
      "execution_count": 4,
      "outputs": [
        {
          "output_type": "display_data",
          "data": {
            "image/png": "[encoded data removed]",
            "text/plain": [
              "<Figure size 432x288 with 1 Axes>"
            ]
          },
          "metadata": {
            "tags": [],
            "needs_background": "light"
          }
        }
      ]
    },
    {
      "cell_type": "markdown",
      "metadata": {
        "id": "8ALZhxOW0ykV",
        "colab_type": "text"
      },
      "source": [
        "**Import thư viện sklearn Chọn data 80% train 20% test**"
      ]
    },
    {
      "cell_type": "code",
      "metadata": {
        "id": "QEeb_BXA0u5k",
        "colab_type": "code",
        "colab": {}
      },
      "source": [
        "from sklearn.model_selection import train_test_split\n",
        "x_train,x_test,y_train,y_test= train_test_split(x,y,test_size=0.2)"
      ],
      "execution_count": 0,
      "outputs": []
    },
    {
      "cell_type": "code",
      "metadata": {
        "id": "Gcn5w03k04Dm",
        "colab_type": "code",
        "colab": {}
      },
      "source": [
        "import pandas as pd\n",
        "x_train=pd.DataFrame(x_train)\n",
        "x_test=pd.DataFrame(x_test)"
      ],
      "execution_count": 0,
      "outputs": []
    },
    {
      "cell_type": "code",
      "metadata": {
        "id": "R__7HQX506hn",
        "colab_type": "code",
        "colab": {
          "base_uri": "https://localhost:8080/",
          "height": 34
        },
        "outputId": "2f17078b-68bb-4140-bc30-7d383615ffa1"
      },
      "source": [
        "from sklearn.linear_model import LinearRegression\n",
        "model=LinearRegression()\n",
        "model.fit(x_train,y_train)"
      ],
      "execution_count": 7,
      "outputs": [
        {
          "output_type": "execute_result",
          "data": {
            "text/plain": [
              "LinearRegression(copy_X=True, fit_intercept=True, n_jobs=None, normalize=False)"
            ]
          },
          "metadata": {
            "tags": []
          },
          "execution_count": 7
        }
      ]
    },
    {
      "cell_type": "code",
      "metadata": {
        "id": "elxluPiy086r",
        "colab_type": "code",
        "colab": {}
      },
      "source": [
        "predict=model.predict(x_test)"
      ],
      "execution_count": 0,
      "outputs": []
    },
    {
      "cell_type": "code",
      "metadata": {
        "id": "SIWqpb-S0_Iw",
        "colab_type": "code",
        "colab": {
          "base_uri": "https://localhost:8080/",
          "height": 34
        },
        "outputId": "1b7ab048-9ba5-4562-9618-c562aa602335"
      },
      "source": [
        "model.score(x_test,y_test)"
      ],
      "execution_count": 9,
      "outputs": [
        {
          "output_type": "execute_result",
          "data": {
            "text/plain": [
              "0.9899965006310785"
            ]
          },
          "metadata": {
            "tags": []
          },
          "execution_count": 9
        }
      ]
    },
    {
      "cell_type": "code",
      "metadata": {
        "id": "R4yyy71n1BtT",
        "colab_type": "code",
        "colab": {
          "base_uri": "https://localhost:8080/",
          "height": 34
        },
        "outputId": "9831b1a0-edf2-4f96-b889-8fb2e6d24b75"
      },
      "source": [
        "cost=((y_test-predict)**2).sum()/len(y_test)\n",
        "cost"
      ],
      "execution_count": 10,
      "outputs": [
        {
          "output_type": "execute_result",
          "data": {
            "text/plain": [
              "0.002910529913789358"
            ]
          },
          "metadata": {
            "tags": []
          },
          "execution_count": 10
        }
      ]
    },
    {
      "cell_type": "code",
      "metadata": {
        "id": "-StKToSb1Ej2",
        "colab_type": "code",
        "colab": {
          "base_uri": "https://localhost:8080/",
          "height": 50
        },
        "outputId": "e8a8e6c6-ec55-41f0-de71-6fea5749d396"
      },
      "source": [
        "n=int(input())\n",
        "p=model.predict([[n]])\n",
        "print(p)"
      ],
      "execution_count": 11,
      "outputs": [
        {
          "output_type": "stream",
          "text": [
            "4813146\n",
            "[0.30840011]\n"
          ],
          "name": "stdout"
        }
      ]
    },
    {
      "cell_type": "markdown",
      "metadata": {
        "id": "6eGiB8xa176G",
        "colab_type": "text"
      },
      "source": [
        "**kết quả tệ hơn**\n",
        "kết quả tệ hơn 0.989 < 0.997\n",
        "MSE mới lớn hơn MSE cũ "
      ]
    },
    {
      "cell_type": "markdown",
      "metadata": {
        "id": "QvpZu4zc2s3F",
        "colab_type": "text"
      },
      "source": [
        "**vẫn đề gặp phải** \n",
        "dữ liệu data chênh lệch nhau quá lớn.\n"
      ]
    },
    {
      "cell_type": "markdown",
      "metadata": {
        "id": "kk1iAIkB4lns",
        "colab_type": "text"
      },
      "source": [
        ""
      ]
    }
  ]
}