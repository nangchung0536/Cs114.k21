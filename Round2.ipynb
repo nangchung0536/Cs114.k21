{
  "nbformat": 4,
  "nbformat_minor": 0,
  "metadata": {
    "colab": {
      "name": "Round2.ipynb",
      "provenance": [],
      "authorship_tag": "ABX9TyNK0ODA1toDsXFCzImjnOpE",
      "include_colab_link": true
    },
    "kernelspec": {
      "name": "python3",
      "display_name": "Python 3"
    }
  },
  "cells": [
    {
      "cell_type": "markdown",
      "metadata": {
        "id": "view-in-github",
        "colab_type": "text"
      },
      "source": [
        "<a href=\"https://colab.research.google.com/github/nangchung0536/Cs114.k21/blob/master/Round2.ipynb\" target=\"_parent\"><img src=\"https://colab.research.google.com/assets/colab-badge.svg\" alt=\"Open In Colab\"/></a>"
      ]
    },
    {
      "cell_type": "code",
      "metadata": {
        "id": "8HFotprxuwI4",
        "colab_type": "code",
        "colab": {}
      },
      "source": [
        ""
      ],
      "execution_count": 0,
      "outputs": []
    },
    {
      "cell_type": "markdown",
      "metadata": {
        "id": "DoeyJQ6Tvkgj",
        "colab_type": "text"
      },
      "source": [
        "**Chuyển file txt thành csv**"
      ]
    },
    {
      "cell_type": "code",
      "metadata": {
        "id": "XrFzP_Fmvvu8",
        "colab_type": "code",
        "colab": {
          "base_uri": "https://localhost:8080/",
          "height": 252
        },
        "outputId": "91495ef9-c2ba-47ce-a0bc-86a0bcc039fa"
      },
      "source": [
        "import pandas as pd\n",
        "dataframe=pd.read_csv('http://cs.uit.edu.vn/data2.txt')\n",
        "print(dataframe)"
      ],
      "execution_count": 1,
      "outputs": [
        {
          "output_type": "stream",
          "text": [
            "       6083695  0.521842\n",
            "0      1954367  0.152648\n",
            "1      3734185  0.298548\n",
            "2      5839301  0.460480\n",
            "3      6343427  0.527977\n",
            "4      1355574  0.098012\n",
            "...        ...       ...\n",
            "71109  4472112  0.350379\n",
            "71110  5471895  0.429955\n",
            "71111  9837364  0.801394\n",
            "71112  9466593  0.776407\n",
            "71113  4080801  0.314468\n",
            "\n",
            "[71114 rows x 2 columns]\n"
          ],
          "name": "stdout"
        }
      ]
    },
    {
      "cell_type": "markdown",
      "metadata": {
        "id": "5jx5dCtOwDSj",
        "colab_type": "text"
      },
      "source": [
        "**Dữ liệu của X**\n"
      ]
    },
    {
      "cell_type": "code",
      "metadata": {
        "id": "WLfzkKvRwLP1",
        "colab_type": "code",
        "colab": {
          "base_uri": "https://localhost:8080/",
          "height": 34
        },
        "outputId": "14e14f49-6994-4ade-c71b-3bf5f99422ad"
      },
      "source": [
        "x=dataframe.values[:,0]\n",
        "print(x)\n"
      ],
      "execution_count": 2,
      "outputs": [
        {
          "output_type": "stream",
          "text": [
            "[1954367. 3734185. 5839301. ... 9837364. 9466593. 4080801.]\n"
          ],
          "name": "stdout"
        }
      ]
    },
    {
      "cell_type": "markdown",
      "metadata": {
        "id": "fXNtk4viwTDn",
        "colab_type": "text"
      },
      "source": [
        "**Dữ liệu của Y**"
      ]
    },
    {
      "cell_type": "code",
      "metadata": {
        "id": "WfQcwsmRwWxG",
        "colab_type": "code",
        "colab": {
          "base_uri": "https://localhost:8080/",
          "height": 34
        },
        "outputId": "168ecd83-3d57-4925-c771-eeb882b2818f"
      },
      "source": [
        "y=dataframe.values[:,1]\n",
        "print(y)"
      ],
      "execution_count": 3,
      "outputs": [
        {
          "output_type": "stream",
          "text": [
            "[0.152648 0.298548 0.46048  ... 0.801394 0.776407 0.314468]\n"
          ],
          "name": "stdout"
        }
      ]
    },
    {
      "cell_type": "markdown",
      "metadata": {
        "id": "2Kwp_Jb8wp6y",
        "colab_type": "text"
      },
      "source": [
        "**Import thư viện matplotlib vẽ đồ thị**\n"
      ]
    },
    {
      "cell_type": "code",
      "metadata": {
        "id": "5y38p72owrYJ",
        "colab_type": "code",
        "colab": {
          "base_uri": "https://localhost:8080/",
          "height": 278
        },
        "outputId": "84ff5119-75a8-4e34-a2dc-7b2deadec263"
      },
      "source": [
        "import matplotlib.pyplot as plt\n",
        "plt.plot(x,y,marker='o')\n",
        "plt.show()\n"
      ],
      "execution_count": 4,
      "outputs": [
        {
          "output_type": "display_data",
          "data": {
            "image/png": "[encoded data removed]",
            "text/plain": [
              "<Figure size 432x288 with 1 Axes>"
            ]
          },
          "metadata": {
            "tags": [],
            "needs_background": "light"
          }
        }
      ]
    },
    {
      "cell_type": "markdown",
      "metadata": {
        "id": "n2sJtZx9xazj",
        "colab_type": "text"
      },
      "source": [
        "**Import thư viện sklearn**\n",
        "Chọn data 80% train 20% test"
      ]
    },
    {
      "cell_type": "code",
      "metadata": {
        "id": "GB29M9PMxjnT",
        "colab_type": "code",
        "colab": {}
      },
      "source": [
        "from sklearn.model_selection import train_test_split\n",
        "x_train,x_test,y_train,y_test= train_test_split(x,y,test_size=0.2)\n"
      ],
      "execution_count": 0,
      "outputs": []
    },
    {
      "cell_type": "code",
      "metadata": {
        "id": "gLOi1UrnyO01",
        "colab_type": "code",
        "colab": {}
      },
      "source": [
        "import pandas as pd\n",
        "x_train=pd.DataFrame(x_train)\n",
        "x_test=pd.DataFrame(x_test)"
      ],
      "execution_count": 0,
      "outputs": []
    },
    {
      "cell_type": "code",
      "metadata": {
        "id": "KjErkM2MyZ1Z",
        "colab_type": "code",
        "colab": {
          "base_uri": "https://localhost:8080/",
          "height": 34
        },
        "outputId": "797f5fce-e687-4114-ad86-8570cee35e67"
      },
      "source": [
        "from sklearn.linear_model import LinearRegression\n",
        "model=LinearRegression()\n",
        "model.fit(x_train,y_train)"
      ],
      "execution_count": 7,
      "outputs": [
        {
          "output_type": "execute_result",
          "data": {
            "text/plain": [
              "LinearRegression(copy_X=True, fit_intercept=True, n_jobs=None, normalize=False)"
            ]
          },
          "metadata": {
            "tags": []
          },
          "execution_count": 7
        }
      ]
    },
    {
      "cell_type": "markdown",
      "metadata": {
        "id": "8dKsaiQByOsF",
        "colab_type": "text"
      },
      "source": [
        ""
      ]
    },
    {
      "cell_type": "code",
      "metadata": {
        "id": "jXoAoa3Fyel4",
        "colab_type": "code",
        "colab": {}
      },
      "source": [
        "predict=model.predict(x_test)"
      ],
      "execution_count": 0,
      "outputs": []
    },
    {
      "cell_type": "code",
      "metadata": {
        "id": "l1bYQcadyhXj",
        "colab_type": "code",
        "colab": {
          "base_uri": "https://localhost:8080/",
          "height": 34
        },
        "outputId": "9a70dc90-6a6d-4e5b-d3a8-314efd0c6af5"
      },
      "source": [
        "model.score(x_test,y_test)"
      ],
      "execution_count": 9,
      "outputs": [
        {
          "output_type": "execute_result",
          "data": {
            "text/plain": [
              "0.9974817750541755"
            ]
          },
          "metadata": {
            "tags": []
          },
          "execution_count": 9
        }
      ]
    },
    {
      "cell_type": "code",
      "metadata": {
        "id": "oi_g2u0JykY2",
        "colab_type": "code",
        "colab": {
          "base_uri": "https://localhost:8080/",
          "height": 34
        },
        "outputId": "1675bf4b-95d0-4a80-853d-229378cffdb0"
      },
      "source": [
        "cost=((y_test-predict)**2).sum()/len(y_test)\n",
        "cost"
      ],
      "execution_count": 10,
      "outputs": [
        {
          "output_type": "execute_result",
          "data": {
            "text/plain": [
              "0.00015074515698749595"
            ]
          },
          "metadata": {
            "tags": []
          },
          "execution_count": 10
        }
      ]
    },
    {
      "cell_type": "code",
      "metadata": {
        "id": "z1-nwAJqynF5",
        "colab_type": "code",
        "colab": {
          "base_uri": "https://localhost:8080/",
          "height": 50
        },
        "outputId": "90b5ee0c-4d0e-4e4b-c50e-ef62849ef679"
      },
      "source": [
        "n=int(input())\n",
        "p=model.predict([[n]])\n",
        "print(p)"
      ],
      "execution_count": 11,
      "outputs": [
        {
          "output_type": "stream",
          "text": [
            "5672491\n",
            "[0.46373426]\n"
          ],
          "name": "stdout"
        }
      ]
    }
  ]
}